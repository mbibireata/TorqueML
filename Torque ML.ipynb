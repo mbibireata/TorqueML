{
 "cells": [
  {
   "cell_type": "code",
   "execution_count": 1,
   "metadata": {},
   "outputs": [
    {
     "name": "stdout",
     "output_type": "stream",
     "text": [
      "1.9.0\n"
     ]
    }
   ],
   "source": [
    "import numpy as np \n",
    "import matplotlib.pyplot as plt\n",
    "import random\n",
    "import tensorflow as tf\n",
    "from tensorflow import keras\n",
    "print(tf.__version__)"
   ]
  },
  {
   "cell_type": "markdown",
   "metadata": {},
   "source": [
    "### Generate Torque Training Data and Labels "
   ]
  },
  {
   "cell_type": "code",
   "execution_count": 132,
   "metadata": {},
   "outputs": [],
   "source": [
    "# Parameter space restricting force vector lengths in y direction and defining length of door along x direction\n",
    "x_min = 0\n",
    "x_max = 10\n",
    "y_min = -5\n",
    "y_max = 5\n",
    "\n",
    "def random_examples(N):\n",
    "    \"\"\" Generate random force vector pairs\n",
    "    \n",
    "    Keyword arguments:\n",
    "    N -- number of force vector pairs to produce. \n",
    "\n",
    "    \"\"\"\n",
    "    data = np.random.rand(N, 8) \n",
    "    data[:,0] *= x_max\n",
    "    data[:,1] *= y_max\n",
    "    data[:,2] *= x_max\n",
    "    data[:,3] *= 0\n",
    "\n",
    "    data[:,4] *= x_max\n",
    "    data[:,5] *= y_min\n",
    "    data[:,6] *= x_max\n",
    "    data[:,7] *= 0\n",
    "    \n",
    "    return data\n",
    "\n",
    "def perp_only_close(N):\n",
    "    \"\"\" Generate random force vector pairs perpendicular to lever arm that result in 0 net torque\n",
    "    \n",
    "    Keyword arguments:\n",
    "    N -- number of force vector pairs to produce. \n",
    "\n",
    "    \"\"\"\n",
    "    data = np.random.rand(N,8)\n",
    "    data[:,0] *= x_max\n",
    "    data[:,1] *= y_max\n",
    "    data[:,2] = data[:,0]\n",
    "    data[:,3] *= 0\n",
    "    \n",
    "    data[:,4] *= x_max\n",
    "    data[:,5] = - data[:,0] * data[:,1] / data[:,4]\n",
    "    data[:,6] = data[:,4]\n",
    "    data[:,7] *= 0\n",
    "    \n",
    "    return data\n",
    "    \n",
    "def perp_only_open(N):\n",
    "    \"\"\" Generate random force vector pairs perpendicular to lever arm that result in non-zero net torque\n",
    "    \n",
    "    Keyword arguments:\n",
    "    N -- number of force vector pairs to produce. \n",
    "\n",
    "    \"\"\"\n",
    "    data = np.random.rand(N, 8) \n",
    "    data[:,0] *= x_max\n",
    "    data[:,1] *= y_max\n",
    "    data[:,2] *= data[:,0]\n",
    "    data[:,3] *= 0\n",
    "\n",
    "    data[:,4] *= x_max\n",
    "    data[:,5] *= y_min\n",
    "    data[:,6] = data[:,4]\n",
    "    data[:,7] *= 0\n",
    "    \n",
    "    return data\n",
    "\n",
    "def same_dist_close(N): \n",
    "    \"\"\" Generate random force vector pairs terminating at same point on lever arm that result in 0 net torque\n",
    "    \n",
    "    Keyword arguments:\n",
    "    N -- number of force vector pairs to produce. \n",
    "\n",
    "    \"\"\"\n",
    "    data = np.random.rand(N, 8) \n",
    "    data[:,0] *= x_max\n",
    "    data[:,1] *= y_max\n",
    "    data[:,2] *= x_max\n",
    "    data[:,3] *= 0\n",
    "\n",
    "    data[:,4] *= x_max\n",
    "    data[:,6] = data[:,2]\n",
    "    data[:,5] = - data[:,2] * data[:,1] / data[:,6]\n",
    "    data[:,7] *= 0\n",
    "    \n",
    "    return data\n",
    "\n",
    "def same_dist_open(N):\n",
    "    \"\"\" Generate random force vector pairs terminating at same point on lever arm that result in non-zero net torque\n",
    "    \n",
    "    Keyword arguments:\n",
    "    N -- number of force vector pairs to produce. \n",
    "\n",
    "    \"\"\"\n",
    "    data = np.random.rand(N, 8) \n",
    "    data[:,0] *= x_max\n",
    "    data[:,1] *= y_max\n",
    "    data[:,2] *= x_max\n",
    "    data[:,3] *= 0\n",
    "\n",
    "    data[:,4] *= x_max\n",
    "    data[:,5] *= y_max\n",
    "    data[:,6] = data[:,2]\n",
    "    data[:,7] *= 0\n",
    "    \n",
    "    return data\n",
    "    \n",
    "def same_mag_close(N): \n",
    "    \"\"\" Generate random force vector pairs with same magnitude that result in non-zero net torque\n",
    "    \n",
    "    Keyword arguments:\n",
    "    N -- number of force vector pairs to produce. \n",
    "\n",
    "    \"\"\"\n",
    "    pass\n",
    "\n",
    "def same_mag_open(N):\n",
    "    \"\"\" Generate random force vector pairs with same magnitude that result in non-zero net torque\n",
    "    \n",
    "    Keyword arguments:\n",
    "    N -- number of force vector pairs to produce. \n",
    "\n",
    "    \"\"\"\n",
    "    pass\n",
    "\n",
    "N_rand = 10000\n",
    "N_perp_open = 10000\n",
    "N_perp_close = 10000\n",
    "N_dist_close = 10000\n",
    "N_dist_open = 10000\n",
    "N_mag_close = 10\n",
    "N_mag_open = 10\n",
    "\n",
    "N = N_rand + N_perp_open + N_perp_close + N_dist_close + N_dist_open + N_mag_close + N_mag_open\n",
    "\n",
    "#TODO: Finish populating with data\n",
    "data = np.vstack((random_examples(N_rand), perp_only_close(N_perp_close), perp_only_open(N_perp_open),\n",
    "                    same_dist_close(N_dist_close), same_dist_open(N_dist_open))) \n",
    "\n",
    "labels = np.array([i[1] * i[2] + i[5] * i[6] == 0 for i in data]).astype(int)\n",
    "\n",
    "N_test = 100\n",
    "test_data = np.vstack((random_examples(N_test), perp_only_close(N_test), perp_only_open(N_test),\n",
    "                    same_dist_close(N_test), same_dist_open(N_test))) \n",
    "test_labels = np.array([i[1] * i[2] + i[5] * i[6] == 0 for i in test_data]).astype(int)\n"
   ]
  },
  {
   "cell_type": "markdown",
   "metadata": {},
   "source": [
    "### Preprocessing\n",
    "- TODO: Normalize data for input into NN."
   ]
  },
  {
   "cell_type": "code",
   "execution_count": 70,
   "metadata": {},
   "outputs": [
    {
     "name": "stdout",
     "output_type": "stream",
     "text": [
      "True\n"
     ]
    }
   ],
   "source": [
    "print(1 in labels)"
   ]
  },
  {
   "cell_type": "markdown",
   "metadata": {},
   "source": [
    "### Create Model \n",
    "- TODO: Create model using NN architecture from tensorflow"
   ]
  },
  {
   "cell_type": "code",
   "execution_count": 71,
   "metadata": {},
   "outputs": [
    {
     "name": "stdout",
     "output_type": "stream",
     "text": [
      "(250, 8)\n",
      "(250,)\n"
     ]
    }
   ],
   "source": [
    "print(data.shape)\n",
    "print(labels.shape)"
   ]
  },
  {
   "cell_type": "code",
   "execution_count": 118,
   "metadata": {},
   "outputs": [],
   "source": [
    "#TODO: Figure out optimal network architecture for this class of problem\n",
    "\n",
    "model = keras.Sequential([\n",
    "    keras.layers.Dense(100, activation=tf.nn.relu),\n",
    "    keras.layers.Dense(80, activation=tf.nn.relu),\n",
    "    keras.layers.Dense(60, activation=tf.nn.relu),\n",
    "    keras.layers.Dense(1, activation=tf.nn.sigmoid)\n",
    "])\n",
    "\n",
    "\n",
    "model.compile(optimizer='adam',\n",
    "              loss='binary_crossentropy',\n",
    "              metrics=['accuracy'])"
   ]
  },
  {
   "cell_type": "code",
   "execution_count": 133,
   "metadata": {},
   "outputs": [
    {
     "name": "stdout",
     "output_type": "stream",
     "text": [
      "Epoch 1/5\n",
      "50000/50000 [==============================] - 3s 52us/step - loss: 0.1296 - acc: 0.9585\n",
      "Epoch 2/5\n",
      "50000/50000 [==============================] - 3s 50us/step - loss: 0.0982 - acc: 0.9693\n",
      "Epoch 3/5\n",
      "50000/50000 [==============================] - 2s 49us/step - loss: 0.0927 - acc: 0.9716\n",
      "Epoch 4/5\n",
      "50000/50000 [==============================] - 2s 50us/step - loss: 0.0898 - acc: 0.9718\n",
      "Epoch 5/5\n",
      "50000/50000 [==============================] - 3s 50us/step - loss: 0.0867 - acc: 0.9735\n"
     ]
    },
    {
     "data": {
      "text/plain": [
       "<tensorflow.python.keras.callbacks.History at 0xb2ed845c0>"
      ]
     },
     "execution_count": 133,
     "metadata": {},
     "output_type": "execute_result"
    }
   ],
   "source": [
    "model.fit(data, labels, epochs=5)"
   ]
  },
  {
   "cell_type": "markdown",
   "metadata": {},
   "source": [
    "### Test Model accuracy on new data"
   ]
  },
  {
   "cell_type": "code",
   "execution_count": 134,
   "metadata": {},
   "outputs": [
    {
     "name": "stdout",
     "output_type": "stream",
     "text": [
      "500/500 [==============================] - 0s 24us/step\n",
      "Test accuracy: 0.974\n"
     ]
    }
   ],
   "source": [
    "test_loss, test_acc = model.evaluate(test_data, test_labels)\n",
    "\n",
    "print('Test accuracy:', test_acc)"
   ]
  },
  {
   "cell_type": "markdown",
   "metadata": {},
   "source": [
    "### Small Data Model \n",
    "- Low complexity (high bias) model for small data\n",
    "- Same number of layers as features at least (in this case, 8). "
   ]
  },
  {
   "cell_type": "code",
   "execution_count": null,
   "metadata": {},
   "outputs": [],
   "source": []
  }
 ],
 "metadata": {
  "kernelspec": {
   "display_name": "Python 3",
   "language": "python",
   "name": "python3"
  },
  "language_info": {
   "codemirror_mode": {
    "name": "ipython",
    "version": 3
   },
   "file_extension": ".py",
   "mimetype": "text/x-python",
   "name": "python",
   "nbconvert_exporter": "python",
   "pygments_lexer": "ipython3",
   "version": "3.6.6"
  }
 },
 "nbformat": 4,
 "nbformat_minor": 2
}
