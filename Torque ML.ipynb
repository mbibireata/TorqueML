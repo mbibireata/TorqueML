{
 "cells": [
  {
   "cell_type": "code",
   "execution_count": 1,
   "metadata": {},
   "outputs": [
    {
     "name": "stdout",
     "output_type": "stream",
     "text": [
      "1.9.0\n"
     ]
    }
   ],
   "source": [
    "import numpy as np \n",
    "import matplotlib.pyplot as plt\n",
    "import random\n",
    "import tensorflow as tf\n",
    "from tensorflow import keras\n",
    "print(tf.__version__)"
   ]
  },
  {
   "cell_type": "markdown",
   "metadata": {},
   "source": [
    "### Generate Torque Data and Labels "
   ]
  },
  {
   "cell_type": "code",
   "execution_count": 25,
   "metadata": {},
   "outputs": [],
   "source": [
    "x_min = 0\n",
    "x_max = 10\n",
    "y_min = -5\n",
    "y_max = 5\n",
    "\n",
    "def random_examples(N):\n",
    "    data = np.random.rand(N, 8) \n",
    "    data[:,0] *= x_max\n",
    "    data[:,1] *= y_max\n",
    "    data[:,2] *= x_max\n",
    "    data[:,3] *= 0\n",
    "\n",
    "    data[:,4] *= x_max\n",
    "    data[:,5] *= y_min\n",
    "    data[:,6] *= x_max\n",
    "    data[:,7] *= 0\n",
    "    \n",
    "    return data\n",
    "\n",
    "def perp_only_close(N):\n",
    "    data = np.random.rand(N,8)\n",
    "    data[:,0] *= x_max\n",
    "    data[:,1] *= y_max\n",
    "    data[:,2] = data[:,0]\n",
    "    data[:,3] *= 0\n",
    "    \n",
    "    data[:,4] = data[:,0]\n",
    "    data[:,5] = -data[:,1]\n",
    "    data[:,6] = data[:,0]\n",
    "    data[:,7] *= 0\n",
    "    \n",
    "    return data\n",
    "    \n",
    "def perp_only_open(N):\n",
    "    pass\n",
    "\n",
    "def same_dist_close(N): \n",
    "    pass\n",
    "\n",
    "def same_dist_open(N):\n",
    "    pass\n",
    "    \n",
    "def same_mag_close(N): \n",
    "    pass\n",
    "\n",
    "def same_mag_open(N):\n",
    "    pass\n",
    "\n",
    "N_rand = 100\n",
    "N_perp_open = 10\n",
    "N_perp_close = 10\n",
    "N_dist_close = 10\n",
    "N_dist_open = 10\n",
    "N_mag_close = 10\n",
    "N_mag_open = 10\n",
    "\n",
    "N = N_rand + N_perp_open + N_perp_close + N_dist_close + N_dist_open + N_mag_close + N_mag_open\n",
    "\n",
    "#data = np.stack((random_examples(N_rand), )) TODO: Populate with data\n"
   ]
  },
  {
   "cell_type": "code",
   "execution_count": 42,
   "metadata": {},
   "outputs": [
    {
     "data": {
      "text/plain": [
       "array([[0.10532716],\n",
       "       [0.2157444 ],\n",
       "       [0.66695597],\n",
       "       [0.1091522 ],\n",
       "       [0.57462835],\n",
       "       [0.95494045],\n",
       "       [0.15226962],\n",
       "       [0.2371144 ],\n",
       "       [0.80606543],\n",
       "       [0.39437425]])"
      ]
     },
     "execution_count": 42,
     "metadata": {},
     "output_type": "execute_result"
    }
   ],
   "source": [
    "np.random.rand(10,1)"
   ]
  },
  {
   "cell_type": "code",
   "execution_count": 37,
   "metadata": {},
   "outputs": [
    {
     "data": {
      "text/plain": [
       "array([[1, 2, 3],\n",
       "       [4, 5, 6]])"
      ]
     },
     "execution_count": 37,
     "metadata": {},
     "output_type": "execute_result"
    }
   ],
   "source": [
    "a = np.array([1,2,3])\n",
    "b = np.array([4,5,6])\n",
    "#np.concatenate((a,b),axis=-1)\n",
    "np.stack((a,b))"
   ]
  },
  {
   "cell_type": "code",
   "execution_count": 38,
   "metadata": {
    "scrolled": true
   },
   "outputs": [],
   "source": [
    "N = 100 #Size of train set\n",
    "x_min = 0\n",
    "x_max = 10\n",
    "y_min = -5\n",
    "y_max = 5\n",
    "\n",
    "N_closed = 5\n",
    "\n",
    "#Force Vectors: [(start_x1, start_y1), (end_x1, end_y1),\n",
    "              #  (start_x2, start_y2), (end_x2, end_y2)]\n",
    "    \n",
    "'''\n",
    "Force Vectors: [start_x1, start_y1, end_x1, end_y1, start_x2, start_y2, end_x2, end_y2]\n",
    "'''\n",
    "\n",
    "data = np.random.rand(N, 8) \n",
    "data[:,0] *= x_max\n",
    "data[:,1] *= y_max\n",
    "data[:,2] *= x_max\n",
    "data[:,3] *= 0\n",
    "\n",
    "data[:,4] *= x_max\n",
    "data[:,5] *= y_min\n",
    "data[:,6] *= x_max\n",
    "data[:,7] *= 0\n",
    "\n",
    "#TODO: Label Data\n",
    "labels = np.array([i[1] * i[2] + i[5] * i[6] == 0 for i in data]).astype(int)"
   ]
  },
  {
   "cell_type": "markdown",
   "metadata": {},
   "source": [
    "### Preprocessing\n",
    "- TODO: Normalize data for input into NN."
   ]
  },
  {
   "cell_type": "code",
   "execution_count": 3,
   "metadata": {},
   "outputs": [
    {
     "name": "stdout",
     "output_type": "stream",
     "text": [
      "False\n"
     ]
    }
   ],
   "source": [
    "print(1 in labels)"
   ]
  },
  {
   "cell_type": "markdown",
   "metadata": {},
   "source": [
    "### Create Model \n",
    "- TODO: Create model using NN architecture from tensorflow"
   ]
  },
  {
   "cell_type": "code",
   "execution_count": 4,
   "metadata": {},
   "outputs": [
    {
     "name": "stdout",
     "output_type": "stream",
     "text": [
      "(100, 8)\n",
      "(100,)\n"
     ]
    }
   ],
   "source": [
    "print(data.shape)\n",
    "print(labels.shape)"
   ]
  },
  {
   "cell_type": "code",
   "execution_count": 22,
   "metadata": {},
   "outputs": [],
   "source": [
    "model = keras.Sequential([\n",
    "    # keras.layers.Flatten(input_shape=(1,8)),\n",
    "    keras.layers.Dense(40, activation=tf.nn.relu),\n",
    "    keras.layers.Dense(1, activation=tf.nn.sigmoid)\n",
    "])\n",
    "\n",
    "model.compile(optimizer='adam',\n",
    "              loss='sparse_categorical_crossentropy',\n",
    "              metrics=['accuracy'])"
   ]
  },
  {
   "cell_type": "code",
   "execution_count": 23,
   "metadata": {},
   "outputs": [
    {
     "name": "stdout",
     "output_type": "stream",
     "text": [
      "Epoch 1/5\n",
      "100/100 [==============================] - 0s 3ms/step - loss: 0.0000e+00 - acc: 1.0000\n",
      "Epoch 2/5\n",
      "100/100 [==============================] - 0s 61us/step - loss: 0.0000e+00 - acc: 1.0000\n",
      "Epoch 3/5\n",
      "100/100 [==============================] - 0s 56us/step - loss: 0.0000e+00 - acc: 1.0000\n",
      "Epoch 4/5\n",
      "100/100 [==============================] - 0s 57us/step - loss: 0.0000e+00 - acc: 1.0000\n",
      "Epoch 5/5\n",
      "100/100 [==============================] - 0s 69us/step - loss: 0.0000e+00 - acc: 1.0000\n"
     ]
    },
    {
     "data": {
      "text/plain": [
       "<tensorflow.python.keras.callbacks.History at 0xb27ed1fd0>"
      ]
     },
     "execution_count": 23,
     "metadata": {},
     "output_type": "execute_result"
    }
   ],
   "source": [
    "model.fit(data, labels, epochs=5)"
   ]
  },
  {
   "cell_type": "markdown",
   "metadata": {},
   "source": [
    "### Small Data Model \n",
    "- Low complexity (high bias) model for small data\n",
    "- Same number of layers as features at least (in this case, 8). "
   ]
  },
  {
   "cell_type": "code",
   "execution_count": null,
   "metadata": {},
   "outputs": [],
   "source": []
  }
 ],
 "metadata": {
  "kernelspec": {
   "display_name": "Python 3",
   "language": "python",
   "name": "python3"
  },
  "language_info": {
   "codemirror_mode": {
    "name": "ipython",
    "version": 3
   },
   "file_extension": ".py",
   "mimetype": "text/x-python",
   "name": "python",
   "nbconvert_exporter": "python",
   "pygments_lexer": "ipython3",
   "version": "3.6.6"
  }
 },
 "nbformat": 4,
 "nbformat_minor": 2
}
