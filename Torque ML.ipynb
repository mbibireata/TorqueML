{
 "cells": [
  {
   "cell_type": "code",
   "execution_count": 1,
   "metadata": {},
   "outputs": [
    {
     "name": "stdout",
     "output_type": "stream",
     "text": [
      "1.9.0\n"
     ]
    }
   ],
   "source": [
    "import numpy as np \n",
    "import matplotlib.pyplot as plt\n",
    "import random\n",
    "import tensorflow as tf\n",
    "from tensorflow import keras\n",
    "print(tf.__version__)"
   ]
  },
  {
   "cell_type": "markdown",
   "metadata": {},
   "source": [
    "### Generate Torque Data and Labels "
   ]
  },
  {
   "cell_type": "code",
   "execution_count": 68,
   "metadata": {},
   "outputs": [],
   "source": [
    "# Parameter space restricting force vector lengths in y direction and defining length of door along x direction\n",
    "x_min = 0\n",
    "x_max = 10\n",
    "y_min = -5\n",
    "y_max = 5\n",
    "\n",
    "def random_examples(N):\n",
    "    \"\"\" Generate random force vector pairs\n",
    "    \n",
    "    Keyword arguments:\n",
    "    N -- number of force vector pairs to produce. \n",
    "\n",
    "    \"\"\"\n",
    "    data = np.random.rand(N, 8) \n",
    "    data[:,0] *= x_max\n",
    "    data[:,1] *= y_max\n",
    "    data[:,2] *= x_max\n",
    "    data[:,3] *= 0\n",
    "\n",
    "    data[:,4] *= x_max\n",
    "    data[:,5] *= y_min\n",
    "    data[:,6] *= x_max\n",
    "    data[:,7] *= 0\n",
    "    \n",
    "    return data\n",
    "\n",
    "def perp_only_close(N):\n",
    "    \"\"\" Generate random force vector pairs perpendicular to lever arm that result in 0 net torque\n",
    "    \n",
    "    Keyword arguments:\n",
    "    N -- number of force vector pairs to produce. \n",
    "\n",
    "    \"\"\"\n",
    "    data = np.random.rand(N,8)\n",
    "    data[:,0] *= x_max\n",
    "    data[:,1] *= y_max\n",
    "    data[:,2] = data[:,0]\n",
    "    data[:,3] *= 0\n",
    "    \n",
    "    data[:,4] *= x_max\n",
    "    data[:,5] = - data[:,0] * data[:,1] / data[:,4]\n",
    "    data[:,6] = data[:,4]\n",
    "    data[:,7] *= 0\n",
    "    \n",
    "    return data\n",
    "    \n",
    "def perp_only_open(N):\n",
    "    \"\"\" Generate random force vector pairs perpendicular to lever arm that result in non-zero net torque\n",
    "    \n",
    "    Keyword arguments:\n",
    "    N -- number of force vector pairs to produce. \n",
    "\n",
    "    \"\"\"\n",
    "    data = np.random.rand(N, 8) \n",
    "    data[:,0] *= x_max\n",
    "    data[:,1] *= y_max\n",
    "    data[:,2] *= data[:,0]\n",
    "    data[:,3] *= 0\n",
    "\n",
    "    data[:,4] *= x_max\n",
    "    data[:,5] *= y_min\n",
    "    data[:,6] = data[:,4]\n",
    "    data[:,7] *= 0\n",
    "    \n",
    "    return data\n",
    "\n",
    "def same_dist_close(N): \n",
    "    \"\"\" Generate random force vector pairs terminating at same point on lever arm that result in 0 net torque\n",
    "    \n",
    "    Keyword arguments:\n",
    "    N -- number of force vector pairs to produce. \n",
    "\n",
    "    \"\"\"\n",
    "    data = np.random.rand(N, 8) \n",
    "    data[:,0] *= x_max\n",
    "    data[:,1] *= y_max\n",
    "    data[:,2] *= x_max\n",
    "    data[:,3] *= 0\n",
    "\n",
    "    data[:,4] *= x_max\n",
    "    data[:,6] = data[:,2]\n",
    "    data[:,5] = - data[:,2] * data[:,1] / data[:,6]\n",
    "    data[:,7] *= 0\n",
    "    \n",
    "    return data\n",
    "\n",
    "def same_dist_open(N):\n",
    "    \"\"\" Generate random force vector pairs terminating at same point on lever arm that result in non-zero net torque\n",
    "    \n",
    "    Keyword arguments:\n",
    "    N -- number of force vector pairs to produce. \n",
    "\n",
    "    \"\"\"\n",
    "    data = np.random.rand(N, 8) \n",
    "    data[:,0] *= x_max\n",
    "    data[:,1] *= y_max\n",
    "    data[:,2] *= x_max\n",
    "    data[:,3] *= 0\n",
    "\n",
    "    data[:,4] *= x_max\n",
    "    data[:,5] *= y_max\n",
    "    data[:,6] = data[:,2]\n",
    "    data[:,7] *= 0\n",
    "    \n",
    "    return data\n",
    "    \n",
    "def same_mag_close(N): \n",
    "    pass\n",
    "\n",
    "def same_mag_open(N):\n",
    "    pass\n",
    "\n",
    "N_rand = 50\n",
    "N_perp_open = 50\n",
    "N_perp_close = 50\n",
    "N_dist_close = 50\n",
    "N_dist_open = 50\n",
    "N_mag_close = 10\n",
    "N_mag_open = 10\n",
    "\n",
    "N = N_rand + N_perp_open + N_perp_close + N_dist_close + N_dist_open + N_mag_close + N_mag_open\n",
    "\n",
    "#TODO: Finish populating with data\n",
    "data = np.vstack((random_examples(N_rand), perp_only_close(N_perp_close), perp_only_open(N_perp_open),\n",
    "                    same_dist_close(N_dist_close), same_dist_open(N_dist_open))) \n",
    "\n",
    "labels = np.array([i[1] * i[2] + i[5] * i[6] == 0 for i in data]).astype(int)\n"
   ]
  },
  {
   "cell_type": "markdown",
   "metadata": {},
   "source": [
    "### Preprocessing\n",
    "- TODO: Normalize data for input into NN."
   ]
  },
  {
   "cell_type": "code",
   "execution_count": 70,
   "metadata": {},
   "outputs": [
    {
     "name": "stdout",
     "output_type": "stream",
     "text": [
      "True\n"
     ]
    }
   ],
   "source": [
    "print(1 in labels)"
   ]
  },
  {
   "cell_type": "markdown",
   "metadata": {},
   "source": [
    "### Create Model \n",
    "- TODO: Create model using NN architecture from tensorflow"
   ]
  },
  {
   "cell_type": "code",
   "execution_count": 71,
   "metadata": {},
   "outputs": [
    {
     "name": "stdout",
     "output_type": "stream",
     "text": [
      "(250, 8)\n",
      "(250,)\n"
     ]
    }
   ],
   "source": [
    "print(data.shape)\n",
    "print(labels.shape)"
   ]
  },
  {
   "cell_type": "code",
   "execution_count": 95,
   "metadata": {},
   "outputs": [],
   "source": [
    "#TODO: Figure out optimal network architecture for this class of problem\n",
    "model = keras.Sequential([\n",
    "    # keras.layers.Flatten(input_shape=(1,8)),\n",
    "    keras.layers.Dense(100, activation=tf.nn.relu),\n",
    "    keras.layers.Dense(80, activation=tf.nn.relu),\n",
    "    keras.layers.Dense(60, activation=tf.nn.relu),\n",
    "    keras.layers.Dense(1, activation=tf.nn.sigmoid)\n",
    "])\n",
    "\n",
    "model.compile(optimizer='adam',\n",
    "              loss='binary_crossentropy',\n",
    "              metrics=['accuracy'])"
   ]
  },
  {
   "cell_type": "code",
   "execution_count": 96,
   "metadata": {},
   "outputs": [
    {
     "name": "stdout",
     "output_type": "stream",
     "text": [
      "Epoch 1/40\n",
      "250/250 [==============================] - 1s 3ms/step - loss: 0.6437 - acc: 0.6160\n",
      "Epoch 2/40\n",
      "250/250 [==============================] - 0s 56us/step - loss: 0.5622 - acc: 0.6760\n",
      "Epoch 3/40\n",
      "250/250 [==============================] - 0s 61us/step - loss: 0.5380 - acc: 0.7080\n",
      "Epoch 4/40\n",
      "250/250 [==============================] - 0s 64us/step - loss: 0.5090 - acc: 0.7000\n",
      "Epoch 5/40\n",
      "250/250 [==============================] - 0s 64us/step - loss: 0.4774 - acc: 0.7360\n",
      "Epoch 6/40\n",
      "250/250 [==============================] - 0s 63us/step - loss: 0.4481 - acc: 0.7800\n",
      "Epoch 7/40\n",
      "250/250 [==============================] - 0s 64us/step - loss: 0.4249 - acc: 0.7840\n",
      "Epoch 8/40\n",
      "250/250 [==============================] - 0s 69us/step - loss: 0.4044 - acc: 0.7920\n",
      "Epoch 9/40\n",
      "250/250 [==============================] - 0s 62us/step - loss: 0.3877 - acc: 0.7960\n",
      "Epoch 10/40\n",
      "250/250 [==============================] - 0s 64us/step - loss: 0.3703 - acc: 0.8160\n",
      "Epoch 11/40\n",
      "250/250 [==============================] - 0s 58us/step - loss: 0.3604 - acc: 0.8280\n",
      "Epoch 12/40\n",
      "250/250 [==============================] - 0s 54us/step - loss: 0.3462 - acc: 0.8320\n",
      "Epoch 13/40\n",
      "250/250 [==============================] - 0s 52us/step - loss: 0.3258 - acc: 0.8680\n",
      "Epoch 14/40\n",
      "250/250 [==============================] - 0s 54us/step - loss: 0.3120 - acc: 0.8760\n",
      "Epoch 15/40\n",
      "250/250 [==============================] - 0s 54us/step - loss: 0.2987 - acc: 0.8760\n",
      "Epoch 16/40\n",
      "250/250 [==============================] - 0s 56us/step - loss: 0.2877 - acc: 0.8840\n",
      "Epoch 17/40\n",
      "250/250 [==============================] - 0s 51us/step - loss: 0.2788 - acc: 0.8760\n",
      "Epoch 18/40\n",
      "250/250 [==============================] - 0s 57us/step - loss: 0.2617 - acc: 0.9080\n",
      "Epoch 19/40\n",
      "250/250 [==============================] - 0s 48us/step - loss: 0.2574 - acc: 0.9040\n",
      "Epoch 20/40\n",
      "250/250 [==============================] - 0s 54us/step - loss: 0.2468 - acc: 0.9200\n",
      "Epoch 21/40\n",
      "250/250 [==============================] - 0s 55us/step - loss: 0.2532 - acc: 0.8840\n",
      "Epoch 22/40\n",
      "250/250 [==============================] - 0s 57us/step - loss: 0.2201 - acc: 0.9280\n",
      "Epoch 23/40\n",
      "250/250 [==============================] - 0s 58us/step - loss: 0.2241 - acc: 0.9160\n",
      "Epoch 24/40\n",
      "250/250 [==============================] - 0s 53us/step - loss: 0.2119 - acc: 0.9200\n",
      "Epoch 25/40\n",
      "250/250 [==============================] - 0s 62us/step - loss: 0.2062 - acc: 0.9320\n",
      "Epoch 26/40\n",
      "250/250 [==============================] - 0s 51us/step - loss: 0.1933 - acc: 0.9360\n",
      "Epoch 27/40\n",
      "250/250 [==============================] - 0s 57us/step - loss: 0.1902 - acc: 0.9320\n",
      "Epoch 28/40\n",
      "250/250 [==============================] - 0s 63us/step - loss: 0.1794 - acc: 0.9400\n",
      "Epoch 29/40\n",
      "250/250 [==============================] - 0s 53us/step - loss: 0.1777 - acc: 0.9440\n",
      "Epoch 30/40\n",
      "250/250 [==============================] - 0s 57us/step - loss: 0.1743 - acc: 0.9480\n",
      "Epoch 31/40\n",
      "250/250 [==============================] - 0s 55us/step - loss: 0.1787 - acc: 0.9160\n",
      "Epoch 32/40\n",
      "250/250 [==============================] - 0s 56us/step - loss: 0.1619 - acc: 0.9520\n",
      "Epoch 33/40\n",
      "250/250 [==============================] - 0s 60us/step - loss: 0.1680 - acc: 0.9400\n",
      "Epoch 34/40\n",
      "250/250 [==============================] - 0s 57us/step - loss: 0.1516 - acc: 0.9560\n",
      "Epoch 35/40\n",
      "250/250 [==============================] - 0s 54us/step - loss: 0.1440 - acc: 0.9640\n",
      "Epoch 36/40\n",
      "250/250 [==============================] - 0s 58us/step - loss: 0.1540 - acc: 0.9400\n",
      "Epoch 37/40\n",
      "250/250 [==============================] - 0s 57us/step - loss: 0.1489 - acc: 0.9560\n",
      "Epoch 38/40\n",
      "250/250 [==============================] - 0s 54us/step - loss: 0.1530 - acc: 0.9480\n",
      "Epoch 39/40\n",
      "250/250 [==============================] - 0s 56us/step - loss: 0.1539 - acc: 0.9480\n",
      "Epoch 40/40\n",
      "250/250 [==============================] - 0s 58us/step - loss: 0.1439 - acc: 0.9600\n"
     ]
    },
    {
     "data": {
      "text/plain": [
       "<tensorflow.python.keras.callbacks.History at 0xb2b092128>"
      ]
     },
     "execution_count": 96,
     "metadata": {},
     "output_type": "execute_result"
    }
   ],
   "source": [
    "model.fit(data, labels, epochs=40)"
   ]
  },
  {
   "cell_type": "markdown",
   "metadata": {},
   "source": [
    "### Small Data Model \n",
    "- Low complexity (high bias) model for small data\n",
    "- Same number of layers as features at least (in this case, 8). "
   ]
  },
  {
   "cell_type": "code",
   "execution_count": null,
   "metadata": {},
   "outputs": [],
   "source": []
  }
 ],
 "metadata": {
  "kernelspec": {
   "display_name": "Python 3",
   "language": "python",
   "name": "python3"
  },
  "language_info": {
   "codemirror_mode": {
    "name": "ipython",
    "version": 3
   },
   "file_extension": ".py",
   "mimetype": "text/x-python",
   "name": "python",
   "nbconvert_exporter": "python",
   "pygments_lexer": "ipython3",
   "version": "3.6.6"
  }
 },
 "nbformat": 4,
 "nbformat_minor": 2
}
