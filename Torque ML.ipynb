{
 "cells": [
  {
   "cell_type": "code",
   "execution_count": 2,
   "metadata": {},
   "outputs": [
    {
     "name": "stdout",
     "output_type": "stream",
     "text": [
      "1.9.0\n"
     ]
    }
   ],
   "source": [
    "import numpy as np \n",
    "import matplotlib.pyplot as plt\n",
    "import random\n",
    "import tensorflow as tf\n",
    "from tensorflow import keras\n",
    "print(tf.__version__)"
   ]
  },
  {
   "cell_type": "markdown",
   "metadata": {},
   "source": [
    "### Generate Torque Training Data and Labels as vector components, location on pivot (dist from pivot)"
   ]
  },
  {
   "cell_type": "markdown",
   "metadata": {},
   "source": [
    "### Generate Torque Training Data and Labels as angle and magnitude of foces, location on pivot (dist from pivot)"
   ]
  },
  {
   "cell_type": "markdown",
   "metadata": {},
   "source": [
    "### Generate Torque Training Data and Labels as ordered pair for tip of arrows and ordered pair for tail of arrows"
   ]
  },
  {
   "cell_type": "markdown",
   "metadata": {},
   "source": [
    "### Generate Torque training Data and Labels from images"
   ]
  },
  {
   "cell_type": "markdown",
   "metadata": {},
   "source": [
    "### Generate Torque Training Data and Labels as Coordinate Pairs"
   ]
  },
  {
   "cell_type": "code",
   "execution_count": 214,
   "metadata": {},
   "outputs": [],
   "source": [
    "# Parameter space restricting force vector lengths in y direction and defining length of door along x direction\n",
    "x_min = 0\n",
    "x_max = 10\n",
    "y_min = -5\n",
    "y_max = 5\n",
    "\n",
    "def random_examples(N):\n",
    "    \"\"\" Generate random force vector pairs\n",
    "    \n",
    "    Keyword arguments:\n",
    "    N -- number of force vector pairs to produce. \n",
    "\n",
    "    \"\"\"\n",
    "    data = np.random.rand(N, 8) \n",
    "    data[:,0] *= x_max\n",
    "    data[:,1] *= y_max\n",
    "    data[:,2] *= x_max\n",
    "    data[:,3] *= 0\n",
    "\n",
    "    data[:,4] *= x_max\n",
    "    data[:,5] *= y_min\n",
    "    data[:,6] *= x_max\n",
    "    data[:,7] *= 0\n",
    "    \n",
    "    return data\n",
    "\n",
    "def perp_only_close(N):\n",
    "    \"\"\" Generate random force vector pairs perpendicular to lever arm that result in 0 net torque\n",
    "    \n",
    "    Keyword arguments:\n",
    "    N -- number of force vector pairs to produce. \n",
    "\n",
    "    \"\"\"\n",
    "    data = np.random.rand(N,8)\n",
    "    data[:,0] *= x_max\n",
    "    data[:,1] *= y_max\n",
    "    data[:,2] = data[:,0]\n",
    "    data[:,3] *= 0\n",
    "    \n",
    "    data[:,4] *= x_max\n",
    "    data[:,5] = - data[:,0] * data[:,1] / data[:,4]\n",
    "    data[:,6] = data[:,4]\n",
    "    data[:,7] *= 0\n",
    "    \n",
    "    return data\n",
    "    \n",
    "def perp_only_open(N):\n",
    "    \"\"\" Generate random force vector pairs perpendicular to lever arm that result in non-zero net torque\n",
    "    \n",
    "    Keyword arguments:\n",
    "    N -- number of force vector pairs to produce. \n",
    "\n",
    "    \"\"\"\n",
    "    data = np.random.rand(N, 8) \n",
    "    data[:,0] *= x_max\n",
    "    data[:,1] *= y_max\n",
    "    data[:,2] *= data[:,0]\n",
    "    data[:,3] *= 0\n",
    "\n",
    "    data[:,4] *= x_max\n",
    "    data[:,5] *= y_min\n",
    "    data[:,6] = data[:,4]\n",
    "    data[:,7] *= 0\n",
    "    \n",
    "    return data\n",
    "\n",
    "def same_dist_close(N): \n",
    "    \"\"\" Generate random force vector pairs terminating at same point on lever arm that result in 0 net torque\n",
    "    \n",
    "    Keyword arguments:\n",
    "    N -- number of force vector pairs to produce. \n",
    "\n",
    "    \"\"\"\n",
    "    data = np.random.rand(N, 8) \n",
    "    data[:,0] *= x_max\n",
    "    data[:,1] *= y_max\n",
    "    data[:,2] *= x_max\n",
    "    data[:,3] *= 0\n",
    "\n",
    "    data[:,4] *= x_max\n",
    "    data[:,6] = data[:,2]\n",
    "    data[:,5] = - data[:,2] * data[:,1] / data[:,6]\n",
    "    data[:,7] *= 0\n",
    "    \n",
    "    return data\n",
    "\n",
    "def same_dist_open(N):\n",
    "    \"\"\" Generate random force vector pairs terminating at same point on lever arm that result in non-zero net torque\n",
    "    \n",
    "    Keyword arguments:\n",
    "    N -- number of force vector pairs to produce. \n",
    "\n",
    "    \"\"\"\n",
    "    data = np.random.rand(N, 8) \n",
    "    data[:,0] *= x_max\n",
    "    data[:,1] *= y_max\n",
    "    data[:,2] *= x_max\n",
    "    data[:,3] *= 0\n",
    "\n",
    "    data[:,4] *= x_max\n",
    "    data[:,5] *= y_max\n",
    "    data[:,6] = data[:,2]\n",
    "    data[:,7] *= 0\n",
    "    \n",
    "    return data\n",
    "    \n",
    "def same_mag_close(N): \n",
    "    \"\"\" Generate random force vector pairs with same magnitude that result in non-zero net torque\n",
    "    \n",
    "    Keyword arguments:\n",
    "    N -- number of force vector pairs to produce. \n",
    "\n",
    "    \"\"\"\n",
    "    pass\n",
    "\n",
    "def same_mag_open(N):\n",
    "    \"\"\" Generate random force vector pairs with same magnitude that result in non-zero net torque\n",
    "    \n",
    "    Keyword arguments:\n",
    "    N -- number of force vector pairs to produce. \n",
    "\n",
    "    \"\"\"\n",
    "    pass\n",
    "\n",
    "N = 200\n",
    "\n",
    "N_rand = N\n",
    "N_perp_open = N\n",
    "N_perp_close = N\n",
    "N_dist_close = N\n",
    "N_dist_open = N\n",
    "N_mag_close = 10\n",
    "N_mag_open = 10\n",
    "\n",
    "#N = N_rand + N_perp_open + N_perp_close + N_dist_close + N_dist_open + N_mag_close + N_mag_open\n",
    "\n",
    "#TODO: Finish populating with data\n",
    "data = np.vstack((random_examples(N_rand), perp_only_close(N_perp_close), perp_only_open(N_perp_open),\n",
    "                    same_dist_close(N_dist_close), same_dist_open(N_dist_open))) \n",
    "\n",
    "labels = np.array([i[1] * i[2] + i[5] * i[6] == 0 for i in data]).astype(int)\n",
    "\n",
    "N_test = 10\n",
    "test_data = np.vstack((random_examples(N_test), perp_only_close(N_test), perp_only_open(N_test),\n",
    "                    same_dist_close(N_test), same_dist_open(N_test))) \n",
    "test_labels = np.array([i[1] * i[2] + i[5] * i[6] == 0 for i in test_data]).astype(int)\n"
   ]
  },
  {
   "cell_type": "markdown",
   "metadata": {},
   "source": [
    "### Preprocessing\n",
    "- TODO: Normalize data for input into NN."
   ]
  },
  {
   "cell_type": "code",
   "execution_count": 156,
   "metadata": {},
   "outputs": [
    {
     "name": "stdout",
     "output_type": "stream",
     "text": [
      "True\n"
     ]
    }
   ],
   "source": [
    "print(1 in labels)"
   ]
  },
  {
   "cell_type": "markdown",
   "metadata": {},
   "source": [
    "### Create Model \n",
    "- TODO: Create model using NN architecture from tensorflow"
   ]
  },
  {
   "cell_type": "code",
   "execution_count": 157,
   "metadata": {},
   "outputs": [
    {
     "name": "stdout",
     "output_type": "stream",
     "text": [
      "(5000, 8)\n",
      "(5000,)\n"
     ]
    }
   ],
   "source": [
    "print(data.shape)\n",
    "print(labels.shape)"
   ]
  },
  {
   "cell_type": "markdown",
   "metadata": {},
   "source": [
    "#### Model 1: 3 hidden layers"
   ]
  },
  {
   "cell_type": "code",
   "execution_count": 158,
   "metadata": {},
   "outputs": [],
   "source": [
    "#TODO: Figure out optimal network architecture for this class of problem\n",
    "\n",
    "model = keras.Sequential([\n",
    "    keras.layers.Dense(100, activation=tf.nn.relu),\n",
    "    keras.layers.Dense(80, activation=tf.nn.relu),\n",
    "    keras.layers.Dense(60, activation=tf.nn.relu),\n",
    "    keras.layers.Dense(1, activation=tf.nn.sigmoid)\n",
    "])\n",
    "\n",
    "\n",
    "model.compile(optimizer='adam',\n",
    "              loss='binary_crossentropy',\n",
    "              metrics=['accuracy'])"
   ]
  },
  {
   "cell_type": "code",
   "execution_count": 159,
   "metadata": {},
   "outputs": [
    {
     "name": "stdout",
     "output_type": "stream",
     "text": [
      "Epoch 1/5\n",
      "5000/5000 [==============================] - 2s 371us/step - loss: 0.4666 - acc: 0.7586\n",
      "Epoch 2/5\n",
      "5000/5000 [==============================] - 0s 62us/step - loss: 0.2924 - acc: 0.8880\n",
      "Epoch 3/5\n",
      "5000/5000 [==============================] - 0s 57us/step - loss: 0.2371 - acc: 0.9182\n",
      "Epoch 4/5\n",
      "5000/5000 [==============================] - 0s 55us/step - loss: 0.1988 - acc: 0.9292\n",
      "Epoch 5/5\n",
      "5000/5000 [==============================] - 0s 58us/step - loss: 0.1915 - acc: 0.9314\n"
     ]
    },
    {
     "data": {
      "text/plain": [
       "<tensorflow.python.keras.callbacks.History at 0xb2aaac278>"
      ]
     },
     "execution_count": 159,
     "metadata": {},
     "output_type": "execute_result"
    }
   ],
   "source": [
    "model.fit(data, labels, epochs=5)"
   ]
  },
  {
   "cell_type": "code",
   "execution_count": 160,
   "metadata": {},
   "outputs": [
    {
     "name": "stdout",
     "output_type": "stream",
     "text": [
      "50/50 [==============================] - 1s 11ms/step\n",
      "Test accuracy: 0.94\n"
     ]
    }
   ],
   "source": [
    "test_loss, test_acc = model.evaluate(test_data, test_labels)\n",
    "\n",
    "print('Test accuracy:', test_acc)"
   ]
  },
  {
   "cell_type": "markdown",
   "metadata": {},
   "source": [
    "#### Model 2: 2 Hidden Layers"
   ]
  },
  {
   "cell_type": "code",
   "execution_count": 161,
   "metadata": {},
   "outputs": [],
   "source": [
    "alpha = 2\n",
    "model2 = keras.Sequential([\n",
    "    keras.layers.Dense(66, activation=tf.nn.relu),\n",
    "    keras.layers.Dense(44, activation=tf.nn.relu),\n",
    "    keras.layers.Dense(1, activation=tf.nn.sigmoid)\n",
    "])\n",
    "\n",
    "\n",
    "model2.compile(optimizer='adam',\n",
    "              loss='binary_crossentropy',\n",
    "              metrics=['accuracy'])"
   ]
  },
  {
   "cell_type": "code",
   "execution_count": 162,
   "metadata": {},
   "outputs": [
    {
     "name": "stdout",
     "output_type": "stream",
     "text": [
      "Epoch 1/5\n",
      "5000/5000 [==============================] - 2s 373us/step - loss: 0.5552 - acc: 0.6914\n",
      "Epoch 2/5\n",
      "5000/5000 [==============================] - 0s 55us/step - loss: 0.4116 - acc: 0.7986\n",
      "Epoch 3/5\n",
      "5000/5000 [==============================] - 0s 56us/step - loss: 0.3313 - acc: 0.8662\n",
      "Epoch 4/5\n",
      "5000/5000 [==============================] - 0s 51us/step - loss: 0.2962 - acc: 0.8858\n",
      "Epoch 5/5\n",
      "5000/5000 [==============================] - 0s 54us/step - loss: 0.2730 - acc: 0.8952\n"
     ]
    },
    {
     "data": {
      "text/plain": [
       "<tensorflow.python.keras.callbacks.History at 0xb319572e8>"
      ]
     },
     "execution_count": 162,
     "metadata": {},
     "output_type": "execute_result"
    }
   ],
   "source": [
    "model2.fit(data, labels, epochs=5)"
   ]
  },
  {
   "cell_type": "code",
   "execution_count": 163,
   "metadata": {},
   "outputs": [
    {
     "name": "stdout",
     "output_type": "stream",
     "text": [
      "50/50 [==============================] - 1s 12ms/step\n",
      "Test accuracy: 0.92\n"
     ]
    }
   ],
   "source": [
    "test_loss2, test_acc2 = model2.evaluate(test_data, test_labels)\n",
    "\n",
    "print('Test accuracy:', test_acc2)"
   ]
  },
  {
   "cell_type": "markdown",
   "metadata": {},
   "source": [
    "#### Model 3: "
   ]
  },
  {
   "cell_type": "code",
   "execution_count": 164,
   "metadata": {},
   "outputs": [
    {
     "data": {
      "text/plain": [
       "(5000, 8)"
      ]
     },
     "execution_count": 164,
     "metadata": {},
     "output_type": "execute_result"
    }
   ],
   "source": [
    "data.shape"
   ]
  },
  {
   "cell_type": "code",
   "execution_count": 172,
   "metadata": {},
   "outputs": [],
   "source": [
    "r = 0.1\n",
    "model3 = keras.Sequential([\n",
    "    keras.layers.Dropout(r, input_shape=(8,)),\n",
    "    keras.layers.Dense(80, activation=tf.nn.relu),\n",
    "    keras.layers.Dense(60, activation=tf.nn.relu),\n",
    "    keras.layers.Dense(40, activation=tf.nn.relu),\n",
    "    keras.layers.Dense(1, activation=tf.nn.sigmoid)\n",
    "])\n",
    "\n",
    "\n",
    "model3.compile(optimizer='adam',\n",
    "              loss='binary_crossentropy',\n",
    "              metrics=['accuracy'])"
   ]
  },
  {
   "cell_type": "code",
   "execution_count": 178,
   "metadata": {},
   "outputs": [],
   "source": [
    "history = model3.fit(data, labels, epochs=50, validation_data=(test_data,test_labels), verbose=0)"
   ]
  },
  {
   "cell_type": "code",
   "execution_count": 179,
   "metadata": {},
   "outputs": [
    {
     "name": "stdout",
     "output_type": "stream",
     "text": [
      "50/50 [==============================] - 0s 62us/step\n",
      "Test accuracy: 0.92\n"
     ]
    }
   ],
   "source": [
    "test_loss3, test_acc3 = model3.evaluate(test_data, test_labels)\n",
    "\n",
    "print('Test accuracy:', test_acc3)"
   ]
  },
  {
   "cell_type": "code",
   "execution_count": 180,
   "metadata": {},
   "outputs": [
    {
     "name": "stdout",
     "output_type": "stream",
     "text": [
      "dict_keys(['val_loss', 'val_acc', 'loss', 'acc'])\n"
     ]
    }
   ],
   "source": [
    "print(history.history.keys())"
   ]
  },
  {
   "cell_type": "code",
   "execution_count": 181,
   "metadata": {},
   "outputs": [
    {
     "data": {
      "text/plain": [
       "<matplotlib.legend.Legend at 0xb3a28fef0>"
      ]
     },
     "execution_count": 181,
     "metadata": {},
     "output_type": "execute_result"
    },
    {
     "data": {
      "image/png": "[encoded data removed]",
      "text/plain": [
       "<Figure size 432x288 with 1 Axes>"
      ]
     },
     "metadata": {
      "needs_background": "light"
     },
     "output_type": "display_data"
    }
   ],
   "source": [
    "#Accuracy\n",
    "plt.plot(history.history['acc'])\n",
    "plt.plot(history.history['val_acc'])\n",
    "plt.title('model accuracy')\n",
    "plt.ylabel('accuracy')\n",
    "plt.xlabel('epoch')\n",
    "plt.legend(['train', 'test'], loc='lower right')"
   ]
  },
  {
   "cell_type": "code",
   "execution_count": 182,
   "metadata": {},
   "outputs": [
    {
     "data": {
      "text/plain": [
       "<matplotlib.legend.Legend at 0xb3a2eed30>"
      ]
     },
     "execution_count": 182,
     "metadata": {},
     "output_type": "execute_result"
    },
    {
     "data": {
      "image/png": "[encoded data removed]",
      "text/plain": [
       "<Figure size 432x288 with 1 Axes>"
      ]
     },
     "metadata": {
      "needs_background": "light"
     },
     "output_type": "display_data"
    }
   ],
   "source": [
    "#Loss\n",
    "plt.plot(history.history['loss'])\n",
    "plt.plot(history.history['val_loss'])\n",
    "plt.title('model loss')\n",
    "plt.ylabel('loss')\n",
    "plt.xlabel('epoch')\n",
    "plt.legend(['train', 'test'], loc='upper right')"
   ]
  },
  {
   "cell_type": "markdown",
   "metadata": {},
   "source": [
    "### Multilayer Perceptron Implementation"
   ]
  },
  {
   "cell_type": "code",
   "execution_count": 221,
   "metadata": {},
   "outputs": [
    {
     "name": "stdout",
     "output_type": "stream",
     "text": [
      "50/50 [==============================] - 0s 38us/step\n",
      "Test accuracy: 0.8399999904632568\n"
     ]
    }
   ],
   "source": [
    "model3 = keras.Sequential([\n",
    "    #keras.layers.Dropout(r, input_shape=(8,)),\n",
    "    keras.layers.Dense(60, activation=tf.nn.relu),\n",
    "    keras.layers.Dense(1, activation=tf.nn.sigmoid)\n",
    "])\n",
    "\n",
    "\n",
    "model3.compile(optimizer='adam',\n",
    "              loss='binary_crossentropy',\n",
    "              metrics=['accuracy'])\n",
    "\n",
    "history = model3.fit(data, labels, epochs=30, validation_data=(test_data,test_labels), verbose=0)\n",
    "\n",
    "test_loss3, test_acc3 = model3.evaluate(test_data, test_labels)\n",
    "\n",
    "print('Test accuracy:', test_acc3)"
   ]
  },
  {
   "cell_type": "code",
   "execution_count": 222,
   "metadata": {},
   "outputs": [
    {
     "data": {
      "text/plain": [
       "<matplotlib.legend.Legend at 0xb3cb64208>"
      ]
     },
     "execution_count": 222,
     "metadata": {},
     "output_type": "execute_result"
    },
    {
     "data": {
      "image/png": "[encoded data removed]",
      "text/plain": [
       "<Figure size 432x288 with 1 Axes>"
      ]
     },
     "metadata": {
      "needs_background": "light"
     },
     "output_type": "display_data"
    }
   ],
   "source": [
    "#Accuracy\n",
    "plt.plot(history.history['acc'])\n",
    "plt.plot(history.history['val_acc'])\n",
    "plt.title('model accuracy')\n",
    "plt.ylabel('accuracy')\n",
    "plt.xlabel('epoch')\n",
    "plt.legend(['train', 'test'], loc='lower right')"
   ]
  },
  {
   "cell_type": "code",
   "execution_count": 223,
   "metadata": {},
   "outputs": [
    {
     "data": {
      "text/plain": [
       "<matplotlib.legend.Legend at 0xb4047ef60>"
      ]
     },
     "execution_count": 223,
     "metadata": {},
     "output_type": "execute_result"
    },
    {
     "data": {
      "image/png": "[encoded data removed]",
      "text/plain": [
       "<Figure size 432x288 with 1 Axes>"
      ]
     },
     "metadata": {
      "needs_background": "light"
     },
     "output_type": "display_data"
    }
   ],
   "source": [
    "#Loss\n",
    "plt.plot(history.history['loss'])\n",
    "plt.plot(history.history['val_loss'])\n",
    "plt.title('model loss')\n",
    "plt.ylabel('loss')\n",
    "plt.xlabel('epoch')\n",
    "plt.legend(['train', 'test'], loc='upper right')"
   ]
  },
  {
   "cell_type": "markdown",
   "metadata": {},
   "source": [
    "### Small Data Model \n",
    "- Low complexity (high bias) model for small data\n",
    "- Same number of layers as features at least (in this case, 8). "
   ]
  },
  {
   "cell_type": "code",
   "execution_count": null,
   "metadata": {},
   "outputs": [],
   "source": []
  }
 ],
 "metadata": {
  "kernelspec": {
   "display_name": "Python 3",
   "language": "python",
   "name": "python3"
  },
  "language_info": {
   "codemirror_mode": {
    "name": "ipython",
    "version": 3
   },
   "file_extension": ".py",
   "mimetype": "text/x-python",
   "name": "python",
   "nbconvert_exporter": "python",
   "pygments_lexer": "ipython3",
   "version": "3.6.6"
  }
 },
 "nbformat": 4,
 "nbformat_minor": 2
}
