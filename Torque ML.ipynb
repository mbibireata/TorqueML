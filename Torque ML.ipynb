{
 "cells": [
  {
   "cell_type": "code",
   "execution_count": 2,
   "metadata": {},
   "outputs": [
    {
     "name": "stdout",
     "output_type": "stream",
     "text": [
      "1.9.0\n"
     ]
    }
   ],
   "source": [
    "import numpy as np \n",
    "import matplotlib.pyplot as plt\n",
    "import random\n",
    "import tensorflow as tf\n",
    "from tensorflow import keras\n",
    "print(tf.__version__)"
   ]
  },
  {
   "cell_type": "markdown",
   "metadata": {},
   "source": [
    "### Generate Torque Training Data and Labels "
   ]
  },
  {
   "cell_type": "code",
   "execution_count": 56,
   "metadata": {},
   "outputs": [],
   "source": [
    "# Parameter space restricting force vector lengths in y direction and defining length of door along x direction\n",
    "x_min = 0\n",
    "x_max = 10\n",
    "y_min = -5\n",
    "y_max = 5\n",
    "\n",
    "def random_examples(N):\n",
    "    \"\"\" Generate random force vector pairs\n",
    "    \n",
    "    Keyword arguments:\n",
    "    N -- number of force vector pairs to produce. \n",
    "\n",
    "    \"\"\"\n",
    "    data = np.random.rand(N, 8) \n",
    "    data[:,0] *= x_max\n",
    "    data[:,1] *= y_max\n",
    "    data[:,2] *= x_max\n",
    "    data[:,3] *= 0\n",
    "\n",
    "    data[:,4] *= x_max\n",
    "    data[:,5] *= y_min\n",
    "    data[:,6] *= x_max\n",
    "    data[:,7] *= 0\n",
    "    \n",
    "    return data\n",
    "\n",
    "def perp_only_close(N):\n",
    "    \"\"\" Generate random force vector pairs perpendicular to lever arm that result in 0 net torque\n",
    "    \n",
    "    Keyword arguments:\n",
    "    N -- number of force vector pairs to produce. \n",
    "\n",
    "    \"\"\"\n",
    "    data = np.random.rand(N,8)\n",
    "    data[:,0] *= x_max\n",
    "    data[:,1] *= y_max\n",
    "    data[:,2] = data[:,0]\n",
    "    data[:,3] *= 0\n",
    "    \n",
    "    data[:,4] *= x_max\n",
    "    data[:,5] = - data[:,0] * data[:,1] / data[:,4]\n",
    "    data[:,6] = data[:,4]\n",
    "    data[:,7] *= 0\n",
    "    \n",
    "    return data\n",
    "    \n",
    "def perp_only_open(N):\n",
    "    \"\"\" Generate random force vector pairs perpendicular to lever arm that result in non-zero net torque\n",
    "    \n",
    "    Keyword arguments:\n",
    "    N -- number of force vector pairs to produce. \n",
    "\n",
    "    \"\"\"\n",
    "    data = np.random.rand(N, 8) \n",
    "    data[:,0] *= x_max\n",
    "    data[:,1] *= y_max\n",
    "    data[:,2] *= data[:,0]\n",
    "    data[:,3] *= 0\n",
    "\n",
    "    data[:,4] *= x_max\n",
    "    data[:,5] *= y_min\n",
    "    data[:,6] = data[:,4]\n",
    "    data[:,7] *= 0\n",
    "    \n",
    "    return data\n",
    "\n",
    "def same_dist_close(N): \n",
    "    \"\"\" Generate random force vector pairs terminating at same point on lever arm that result in 0 net torque\n",
    "    \n",
    "    Keyword arguments:\n",
    "    N -- number of force vector pairs to produce. \n",
    "\n",
    "    \"\"\"\n",
    "    data = np.random.rand(N, 8) \n",
    "    data[:,0] *= x_max\n",
    "    data[:,1] *= y_max\n",
    "    data[:,2] *= x_max\n",
    "    data[:,3] *= 0\n",
    "\n",
    "    data[:,4] *= x_max\n",
    "    data[:,6] = data[:,2]\n",
    "    data[:,5] = - data[:,2] * data[:,1] / data[:,6]\n",
    "    data[:,7] *= 0\n",
    "    \n",
    "    return data\n",
    "\n",
    "def same_dist_open(N):\n",
    "    \"\"\" Generate random force vector pairs terminating at same point on lever arm that result in non-zero net torque\n",
    "    \n",
    "    Keyword arguments:\n",
    "    N -- number of force vector pairs to produce. \n",
    "\n",
    "    \"\"\"\n",
    "    data = np.random.rand(N, 8) \n",
    "    data[:,0] *= x_max\n",
    "    data[:,1] *= y_max\n",
    "    data[:,2] *= x_max\n",
    "    data[:,3] *= 0\n",
    "\n",
    "    data[:,4] *= x_max\n",
    "    data[:,5] *= y_max\n",
    "    data[:,6] = data[:,2]\n",
    "    data[:,7] *= 0\n",
    "    \n",
    "    return data\n",
    "    \n",
    "def same_mag_close(N): \n",
    "    \"\"\" Generate random force vector pairs with same magnitude that result in non-zero net torque\n",
    "    \n",
    "    Keyword arguments:\n",
    "    N -- number of force vector pairs to produce. \n",
    "\n",
    "    \"\"\"\n",
    "    pass\n",
    "\n",
    "def same_mag_open(N):\n",
    "    \"\"\" Generate random force vector pairs with same magnitude that result in non-zero net torque\n",
    "    \n",
    "    Keyword arguments:\n",
    "    N -- number of force vector pairs to produce. \n",
    "\n",
    "    \"\"\"\n",
    "    pass\n",
    "\n",
    "N = 50000\n",
    "\n",
    "N_rand = N\n",
    "N_perp_open = N\n",
    "N_perp_close = N\n",
    "N_dist_close = N\n",
    "N_dist_open = N\n",
    "N_mag_close = 10\n",
    "N_mag_open = 10\n",
    "\n",
    "#N = N_rand + N_perp_open + N_perp_close + N_dist_close + N_dist_open + N_mag_close + N_mag_open\n",
    "\n",
    "#TODO: Finish populating with data\n",
    "data = np.vstack((random_examples(N_rand), perp_only_close(N_perp_close), perp_only_open(N_perp_open),\n",
    "                    same_dist_close(N_dist_close), same_dist_open(N_dist_open))) \n",
    "\n",
    "labels = np.array([i[1] * i[2] + i[5] * i[6] == 0 for i in data]).astype(int)\n",
    "\n",
    "N_test = 500\n",
    "test_data = np.vstack((random_examples(N_test), perp_only_close(N_test), perp_only_open(N_test),\n",
    "                    same_dist_close(N_test), same_dist_open(N_test))) \n",
    "test_labels = np.array([i[1] * i[2] + i[5] * i[6] == 0 for i in test_data]).astype(int)\n"
   ]
  },
  {
   "cell_type": "markdown",
   "metadata": {},
   "source": [
    "### Preprocessing\n",
    "- TODO: Normalize data for input into NN."
   ]
  },
  {
   "cell_type": "code",
   "execution_count": 70,
   "metadata": {},
   "outputs": [
    {
     "name": "stdout",
     "output_type": "stream",
     "text": [
      "True\n"
     ]
    }
   ],
   "source": [
    "print(1 in labels)"
   ]
  },
  {
   "cell_type": "markdown",
   "metadata": {},
   "source": [
    "### Create Model \n",
    "- TODO: Create model using NN architecture from tensorflow"
   ]
  },
  {
   "cell_type": "code",
   "execution_count": 71,
   "metadata": {},
   "outputs": [
    {
     "name": "stdout",
     "output_type": "stream",
     "text": [
      "(250, 8)\n",
      "(250,)\n"
     ]
    }
   ],
   "source": [
    "print(data.shape)\n",
    "print(labels.shape)"
   ]
  },
  {
   "cell_type": "markdown",
   "metadata": {},
   "source": [
    "#### Model 1: 3 hidden layers"
   ]
  },
  {
   "cell_type": "code",
   "execution_count": 57,
   "metadata": {},
   "outputs": [],
   "source": [
    "#TODO: Figure out optimal network architecture for this class of problem\n",
    "\n",
    "model = keras.Sequential([\n",
    "    keras.layers.Dense(100, activation=tf.nn.relu),\n",
    "    keras.layers.Dense(80, activation=tf.nn.relu),\n",
    "    keras.layers.Dense(60, activation=tf.nn.relu),\n",
    "    keras.layers.Dense(1, activation=tf.nn.sigmoid)\n",
    "])\n",
    "\n",
    "\n",
    "model.compile(optimizer='adam',\n",
    "              loss='binary_crossentropy',\n",
    "              metrics=['accuracy'])"
   ]
  },
  {
   "cell_type": "code",
   "execution_count": 58,
   "metadata": {},
   "outputs": [
    {
     "name": "stdout",
     "output_type": "stream",
     "text": [
      "Epoch 1/5\n",
      "250000/250000 [==============================] - 13s 54us/step - loss: 0.1358 - acc: 0.9546\n",
      "Epoch 2/5\n",
      "250000/250000 [==============================] - 12s 47us/step - loss: 0.0911 - acc: 0.9719\n",
      "Epoch 3/5\n",
      "250000/250000 [==============================] - 12s 47us/step - loss: 0.0840 - acc: 0.9744\n",
      "Epoch 4/5\n",
      "250000/250000 [==============================] - 11s 46us/step - loss: 0.0807 - acc: 0.9753\n",
      "Epoch 5/5\n",
      "250000/250000 [==============================] - 11s 44us/step - loss: 0.0796 - acc: 0.9755\n"
     ]
    },
    {
     "data": {
      "text/plain": [
       "<tensorflow.python.keras.callbacks.History at 0xb29127f60>"
      ]
     },
     "execution_count": 58,
     "metadata": {},
     "output_type": "execute_result"
    }
   ],
   "source": [
    "model.fit(data, labels, epochs=5)"
   ]
  },
  {
   "cell_type": "code",
   "execution_count": 59,
   "metadata": {},
   "outputs": [
    {
     "name": "stdout",
     "output_type": "stream",
     "text": [
      "2500/2500 [==============================] - 0s 135us/step\n",
      "Test accuracy: 0.9792\n"
     ]
    }
   ],
   "source": [
    "test_loss, test_acc = model.evaluate(test_data, test_labels)\n",
    "\n",
    "print('Test accuracy:', test_acc)"
   ]
  },
  {
   "cell_type": "markdown",
   "metadata": {},
   "source": [
    "#### Model 2: 2 Hidden Layers"
   ]
  },
  {
   "cell_type": "code",
   "execution_count": 60,
   "metadata": {},
   "outputs": [],
   "source": [
    "alpha = 2\n",
    "model2 = keras.Sequential([\n",
    "    keras.layers.Dense(66, activation=tf.nn.relu),\n",
    "    keras.layers.Dense(44, activation=tf.nn.relu),\n",
    "    keras.layers.Dense(1, activation=tf.nn.sigmoid)\n",
    "])\n",
    "\n",
    "\n",
    "model2.compile(optimizer='adam',\n",
    "              loss='binary_crossentropy',\n",
    "              metrics=['accuracy'])"
   ]
  },
  {
   "cell_type": "code",
   "execution_count": 62,
   "metadata": {},
   "outputs": [
    {
     "name": "stdout",
     "output_type": "stream",
     "text": [
      "Epoch 1/5\n",
      "250000/250000 [==============================] - 11s 43us/step - loss: 0.0978 - acc: 0.9717\n",
      "Epoch 2/5\n",
      "250000/250000 [==============================] - 10s 42us/step - loss: 0.0914 - acc: 0.9733\n",
      "Epoch 3/5\n",
      "250000/250000 [==============================] - 10s 41us/step - loss: 0.0892 - acc: 0.9737\n",
      "Epoch 4/5\n",
      "250000/250000 [==============================] - 10s 41us/step - loss: 0.0846 - acc: 0.9752\n",
      "Epoch 5/5\n",
      "250000/250000 [==============================] - 10s 41us/step - loss: 0.0834 - acc: 0.9752\n"
     ]
    },
    {
     "data": {
      "text/plain": [
       "<tensorflow.python.keras.callbacks.History at 0xb3291ee10>"
      ]
     },
     "execution_count": 62,
     "metadata": {},
     "output_type": "execute_result"
    }
   ],
   "source": [
    "model2.fit(data, labels, epochs=5)"
   ]
  },
  {
   "cell_type": "code",
   "execution_count": 63,
   "metadata": {},
   "outputs": [
    {
     "name": "stdout",
     "output_type": "stream",
     "text": [
      "2500/2500 [==============================] - 0s 141us/step\n",
      "Test accuracy: 0.9784\n"
     ]
    }
   ],
   "source": [
    "test_loss2, test_acc2 = model2.evaluate(test_data, test_labels)\n",
    "\n",
    "print('Test accuracy:', test_acc2)"
   ]
  },
  {
   "cell_type": "markdown",
   "metadata": {},
   "source": [
    "#### Model 3: "
   ]
  },
  {
   "cell_type": "code",
   "execution_count": 79,
   "metadata": {},
   "outputs": [
    {
     "data": {
      "text/plain": [
       "(250000, 8)"
      ]
     },
     "execution_count": 79,
     "metadata": {},
     "output_type": "execute_result"
    }
   ],
   "source": [
    "data.shape"
   ]
  },
  {
   "cell_type": "code",
   "execution_count": 88,
   "metadata": {},
   "outputs": [],
   "source": [
    "r = 0.1\n",
    "model3 = keras.Sequential([\n",
    "    keras.layers.Dropout(r, input_shape=(8,)),\n",
    "    keras.layers.Dense(80, activation=tf.nn.relu),\n",
    "    keras.layers.Dense(60, activation=tf.nn.relu),\n",
    "    keras.layers.Dense(40, activation=tf.nn.relu),\n",
    "    keras.layers.Dense(1, activation=tf.nn.sigmoid)\n",
    "])\n",
    "\n",
    "\n",
    "model3.compile(optimizer='adam',\n",
    "              loss='binary_crossentropy',\n",
    "              metrics=['accuracy'])"
   ]
  },
  {
   "cell_type": "code",
   "execution_count": 106,
   "metadata": {},
   "outputs": [
    {
     "name": "stdout",
     "output_type": "stream",
     "text": [
      "Train on 250000 samples, validate on 2500 samples\n",
      "Epoch 1/10\n",
      "250000/250000 [==============================] - 13s 53us/step - loss: 0.1434 - acc: 0.9374 - val_loss: 0.0686 - val_acc: 0.9804\n",
      "Epoch 2/10\n",
      "250000/250000 [==============================] - 13s 52us/step - loss: 0.1414 - acc: 0.9379 - val_loss: 0.0694 - val_acc: 0.9784\n",
      "Epoch 3/10\n",
      "250000/250000 [==============================] - 13s 53us/step - loss: 0.1400 - acc: 0.9385 - val_loss: 0.0671 - val_acc: 0.9804\n",
      "Epoch 4/10\n",
      "250000/250000 [==============================] - 13s 52us/step - loss: 0.1398 - acc: 0.9386 - val_loss: 0.0669 - val_acc: 0.9796\n",
      "Epoch 5/10\n",
      "250000/250000 [==============================] - 13s 53us/step - loss: 0.1409 - acc: 0.9384 - val_loss: 0.0716 - val_acc: 0.9788\n",
      "Epoch 6/10\n",
      "250000/250000 [==============================] - 14s 56us/step - loss: 0.1392 - acc: 0.9389 - val_loss: 0.0675 - val_acc: 0.9800\n",
      "Epoch 7/10\n",
      "250000/250000 [==============================] - 13s 54us/step - loss: 0.1396 - acc: 0.9392 - val_loss: 0.0730 - val_acc: 0.9792\n",
      "Epoch 8/10\n",
      "250000/250000 [==============================] - 13s 53us/step - loss: 0.1381 - acc: 0.9394 - val_loss: 0.0674 - val_acc: 0.9804\n",
      "Epoch 9/10\n",
      "250000/250000 [==============================] - 13s 52us/step - loss: 0.1380 - acc: 0.9396 - val_loss: 0.0823 - val_acc: 0.9704\n",
      "Epoch 10/10\n",
      "250000/250000 [==============================] - 13s 51us/step - loss: 0.1384 - acc: 0.9395 - val_loss: 0.0650 - val_acc: 0.9808\n"
     ]
    }
   ],
   "source": [
    "history = model3.fit(data, labels, epochs=10, validation_data=(test_data,test_labels))"
   ]
  },
  {
   "cell_type": "code",
   "execution_count": 107,
   "metadata": {},
   "outputs": [
    {
     "name": "stdout",
     "output_type": "stream",
     "text": [
      "2500/2500 [==============================] - 0s 20us/step\n",
      "Test accuracy: 0.9808\n"
     ]
    }
   ],
   "source": [
    "test_loss3, test_acc3 = model3.evaluate(test_data, test_labels)\n",
    "\n",
    "print('Test accuracy:', test_acc3)"
   ]
  },
  {
   "cell_type": "code",
   "execution_count": 108,
   "metadata": {},
   "outputs": [
    {
     "name": "stdout",
     "output_type": "stream",
     "text": [
      "dict_keys(['val_loss', 'val_acc', 'loss', 'acc'])\n"
     ]
    }
   ],
   "source": [
    "print(history.history.keys())"
   ]
  },
  {
   "cell_type": "code",
   "execution_count": 109,
   "metadata": {},
   "outputs": [
    {
     "data": {
      "text/plain": [
       "<matplotlib.legend.Legend at 0xb2b404748>"
      ]
     },
     "execution_count": 109,
     "metadata": {},
     "output_type": "execute_result"
    },
    {
     "data": {
      "image/png": "[encoded data removed]",
      "text/plain": [
       "<Figure size 432x288 with 1 Axes>"
      ]
     },
     "metadata": {
      "needs_background": "light"
     },
     "output_type": "display_data"
    }
   ],
   "source": [
    "#Accuracy\n",
    "plt.plot(history.history['acc'])\n",
    "plt.plot(history.history['val_acc'])\n",
    "plt.title('model accuracy')\n",
    "plt.ylabel('accuracy')\n",
    "plt.xlabel('epoch')\n",
    "plt.legend(['train', 'test'], loc='upper left')"
   ]
  },
  {
   "cell_type": "code",
   "execution_count": 110,
   "metadata": {},
   "outputs": [
    {
     "data": {
      "text/plain": [
       "<matplotlib.legend.Legend at 0xb2b5fa748>"
      ]
     },
     "execution_count": 110,
     "metadata": {},
     "output_type": "execute_result"
    },
    {
     "data": {
      "image/png": "[encoded data removed]",
      "text/plain": [
       "<Figure size 432x288 with 1 Axes>"
      ]
     },
     "metadata": {
      "needs_background": "light"
     },
     "output_type": "display_data"
    }
   ],
   "source": [
    "#Loss\n",
    "plt.plot(history.history['loss'])\n",
    "plt.plot(history.history['val_loss'])\n",
    "plt.title('model loss')\n",
    "plt.ylabel('loss')\n",
    "plt.xlabel('epoch')\n",
    "plt.legend(['train', 'test'], loc='upper left')"
   ]
  },
  {
   "cell_type": "markdown",
   "metadata": {},
   "source": [
    "### Small Data Model \n",
    "- Low complexity (high bias) model for small data\n",
    "- Same number of layers as features at least (in this case, 8). "
   ]
  },
  {
   "cell_type": "code",
   "execution_count": null,
   "metadata": {},
   "outputs": [],
   "source": []
  }
 ],
 "metadata": {
  "kernelspec": {
   "display_name": "Python 3",
   "language": "python",
   "name": "python3"
  },
  "language_info": {
   "codemirror_mode": {
    "name": "ipython",
    "version": 3
   },
   "file_extension": ".py",
   "mimetype": "text/x-python",
   "name": "python",
   "nbconvert_exporter": "python",
   "pygments_lexer": "ipython3",
   "version": "3.6.6"
  }
 },
 "nbformat": 4,
 "nbformat_minor": 2
}
